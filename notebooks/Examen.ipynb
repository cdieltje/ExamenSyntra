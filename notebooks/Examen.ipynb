{
 "cells": [
  {
   "cell_type": "markdown",
   "metadata": {},
   "source": [
    "# Title"
   ]
  },
  {
   "cell_type": "markdown",
   "metadata": {},
   "source": [
    "## Loading libraries"
   ]
  },
  {
   "cell_type": "code",
   "execution_count": null,
   "metadata": {},
   "outputs": [],
   "source": [
    "# Importeer libraries\n",
    "import pandas as pd\n",
    "import matplotlib.pyplot as plt\n",
    "import seaborn as sns\n",
    "import numpy as np\n",
    "import sys\n",
    "import os\n",
    "from scipy.stats import norm\n",
    "import json"
   ]
  },
  {
   "cell_type": "markdown",
   "metadata": {},
   "source": [
    "## Import dataset"
   ]
  },
  {
   "cell_type": "code",
   "execution_count": 18,
   "metadata": {},
   "outputs": [],
   "source": [
    "df = pd.read_csv(os.path.join('..', 'data', 'input', 'title.csv'))"
   ]
  },
  {
   "cell_type": "code",
   "execution_count": null,
   "metadata": {},
   "outputs": [],
   "source": [
    "# df.head(10)"
   ]
  },
  {
   "cell_type": "code",
   "execution_count": null,
   "metadata": {},
   "outputs": [],
   "source": [
    "df_title = df.copy()"
   ]
  },
  {
   "cell_type": "code",
   "execution_count": null,
   "metadata": {},
   "outputs": [],
   "source": [
    "# Import json-file with graphic colours\n",
    "with open('../scripts/colours.json', 'r') as json_bestand:\n",
    "    colours = json.load(json_bestand)"
   ]
  },
  {
   "cell_type": "code",
   "execution_count": null,
   "metadata": {},
   "outputs": [],
   "source": []
  },
  {
   "cell_type": "code",
   "execution_count": null,
   "metadata": {},
   "outputs": [],
   "source": []
  },
  {
   "cell_type": "markdown",
   "metadata": {},
   "source": [
    "## Data exploration"
   ]
  },
  {
   "cell_type": "code",
   "execution_count": null,
   "metadata": {},
   "outputs": [],
   "source": [
    "# Print all columns\n",
    "print(df_title.columns)"
   ]
  },
  {
   "cell_type": "markdown",
   "metadata": {},
   "source": [
    "### Find and delete duplicate rows"
   ]
  },
  {
   "cell_type": "code",
   "execution_count": null,
   "metadata": {},
   "outputs": [],
   "source": [
    "# Count of rows before deduplication\n",
    "print('Row count before deduplication:', len(df_cars))\n",
    "\n",
    "# find duplicates in new column\n",
    "df_title['duplicate'] = df_title.duplicated(keep='first')\n",
    "df_title = df_title[df_title['duplicate'] == False]\n",
    "print('Row count after deduplication:', len(df_cars))\n",
    "\n",
    "# delete newly made duplicate column\n",
    "df_title = df_title.drop('duplicate', axis=1)"
   ]
  },
  {
   "cell_type": "code",
   "execution_count": null,
   "metadata": {},
   "outputs": [],
   "source": []
  },
  {
   "cell_type": "markdown",
   "metadata": {},
   "source": [
    "#### Relevant rows NaN values\n",
    "Calculation below gives an insight in count and share of NaN values for each column."
   ]
  },
  {
   "cell_type": "code",
   "execution_count": 12,
   "metadata": {},
   "outputs": [
    {
     "name": "stdout",
     "output_type": "stream",
     "text": [
      "                     # NaN values % NaN values  # non NaN values\n",
      "manufacturer                    0         0.0%            752946\n",
      "year                            0         0.0%            752946\n",
      "mileage                       478         0.1%            752468\n",
      "fuel_type                   22153         2.9%            730793\n",
      "accidents_or_damage         23658         3.1%            729288\n",
      "price                           0         0.0%            752946\n"
     ]
    }
   ],
   "source": [
    "# Count NaN values for each column in df_cars_relevant\n",
    "na_counts = df_title.isna().sum()\n",
    "\n",
    "# Count of rows in DataFrame\n",
    "total_rows = len(df_title)\n",
    "\n",
    "# Count of non NaN values for each column\n",
    "non_na_counts = total_rows - na_counts\n",
    "\n",
    "# Percentage NaN values per column\n",
    "na_percentage = (na_counts / total_rows * 100).round(1)\n",
    "\n",
    "# Make DataFrame with NaN values, non NaN values and percentages\n",
    "output_df = pd.DataFrame({\n",
    "    '# NaN values': na_counts,\n",
    "    '% NaN values': na_percentage.astype(str) + '%',\n",
    "    '# non NaN values': non_na_counts\n",
    "})\n",
    "\n",
    "print(output_df)"
   ]
  },
  {
   "cell_type": "code",
   "execution_count": 13,
   "metadata": {},
   "outputs": [],
   "source": [
    "# Delete NaN values from DataFrame\n",
    "df_title.dropna(subset=['columntitle', 'columntitle', 'columntitle'], inplace=True)"
   ]
  },
  {
   "cell_type": "code",
   "execution_count": null,
   "metadata": {},
   "outputs": [],
   "source": []
  },
  {
   "cell_type": "markdown",
   "metadata": {},
   "source": [
    "#### OPTIONAL: Relevant columns with categorical variables"
   ]
  },
  {
   "cell_type": "code",
   "execution_count": null,
   "metadata": {},
   "outputs": [],
   "source": [
    "# Drop irrelevant columns\n",
    "df_title = df_title.drop(columns=['columntitle'\n",
    "                                  , 'columntitle']\n",
    "                         ,errors='ignore')\n",
    "print(df_title_relevant.columns)"
   ]
  },
  {
   "cell_type": "code",
   "execution_count": null,
   "metadata": {},
   "outputs": [],
   "source": []
  },
  {
   "cell_type": "markdown",
   "metadata": {},
   "source": [
    "## Data cleansing"
   ]
  },
  {
   "cell_type": "markdown",
   "metadata": {},
   "source": [
    "#### Data cleansing categorical variables\n",
    "Look for inconsistencies."
   ]
  },
  {
   "cell_type": "code",
   "execution_count": null,
   "metadata": {},
   "outputs": [],
   "source": [
    "# delete white spaces before title with str.strip()"
   ]
  },
  {
   "cell_type": "code",
   "execution_count": 5,
   "metadata": {},
   "outputs": [],
   "source": [
    "# Print list of all values of manufacturers\n",
    "manufacturers = df_title['columntitle'].unique()\n",
    "print(manufacturers)"
   ]
  },
  {
   "cell_type": "markdown",
   "metadata": {},
   "source": [
    "#### OPTIONAL: calculate shares"
   ]
  },
  {
   "cell_type": "code",
   "execution_count": 15,
   "metadata": {},
   "outputs": [
    {
     "name": "stdout",
     "output_type": "stream",
     "text": [
      "\n",
      "Share accidents_or_damage=0: 74.77%\n",
      "Share accidents_or_damage=1: 22.09%\n"
     ]
    }
   ],
   "source": [
    "# Total count of records in DataFrame\n",
    "total_record_count = len(df_title)\n",
    "\n",
    "# Percentual share of records where accidents_or_damage equals to 0 and 1\n",
    "share_0 = (df_title['columntitle'] == 0).sum() / total_record_count * 100\n",
    "share_1 = (df_title['columntitle'] == 1).sum() / total_record_count * 100\n",
    "\n",
    "print()  # Print blank line\n",
    "print(\"Share 0: {:.2f}%\".format(aandeel_0))\n",
    "print(\"Share 1: {:.2f}%\".format(aandeel_1))"
   ]
  },
  {
   "cell_type": "markdown",
   "metadata": {},
   "source": [
    "#### OPTIONAL: delete rows where value equals XXXX"
   ]
  },
  {
   "cell_type": "code",
   "execution_count": 18,
   "metadata": {},
   "outputs": [],
   "source": [
    "# Delete rows where 'fuel_type_mapped' equals to 'Other' and make a copy.\n",
    "# This is a relatively small share.\n",
    "df_title_cleaned = df_title[df_title['columntitle'] != 'Other'].copy()\n",
    "\n",
    "# Assign values of 'fuel_type_mapped' to 'fuel_type' in df_cars_cleaned\n",
    "df_cars_cleaned['fuel_type'] = df_cars_cleaned['fuel_type_mapped']\n",
    "\n",
    "# Delete 'fuel_type_mapped' column\n",
    "df_cars_cleaned.drop(columns=['fuel_type_mapped'], inplace=True)"
   ]
  },
  {
   "cell_type": "markdown",
   "metadata": {},
   "source": [
    "#### Data cleaning of numeric variables¶\n",
    "Look for inconsistencies & outliers. What does the distribution of our numeric variables look like?"
   ]
  },
  {
   "cell_type": "code",
   "execution_count": 10,
   "metadata": {},
   "outputs": [],
   "source": [
    "# Select necessary variables for boxplots\n",
    "column1_data = df_title['columntitle']\n",
    "column2_data = df_cars_relevant_rows_and_cols['columntitle']\n",
    "\n",
    "# Make a figure with three subplots in one row\n",
    "fig, axs = plt.subplots(1, 2, figsize=(18, 6))\n",
    "\n",
    "# Boxplot 'year'\n",
    "axs[0].boxplot(year_data)\n",
    "axs[0].set_title('Year')\n",
    "\n",
    "# Boxplot 'mileage'\n",
    "axs[1].boxplot(mileage_data)\n",
    "axs[1].set_title('Mileage')\n",
    "\n",
    "plt.tight_layout()\n",
    "plt.show()"
   ]
  },
  {
   "cell_type": "code",
   "execution_count": 11,
   "metadata": {},
   "outputs": [],
   "source": [
    "# Show highest price values\n",
    "print('Top XXX COLUMNTITLE:')\n",
    "\n",
    "print(df_title['columntitle']\n",
    "      .astype(int)\n",
    "      .sort_values(ascending=False)\n",
    "      .head(10)\n",
    "     )\n",
    "\n",
    "print()  # Blank line"
   ]
  },
  {
   "cell_type": "code",
   "execution_count": 8,
   "metadata": {},
   "outputs": [],
   "source": [
    "# Filter out outliers.\n",
    "df_title_cleaned = df_title_cleaned[df_title_cleaned['columntitle'] <= 1000000]"
   ]
  },
  {
   "cell_type": "code",
   "execution_count": 9,
   "metadata": {},
   "outputs": [],
   "source": [
    "# Make DataFrame with only 1 category\n",
    "df_title_cat = df_title_cleaned[df_title_cleaned['columntitle'] == 'columnvalue']\n",
    "\n",
    "# Calculate median for the category\n",
    "median_cat = df_title_cat['columntitle'].median()\n",
    "\n",
    "# Use conditional selection to directly find the row closest to the median price\n",
    "cat_median = df_title.loc[(df_title['columntitle'] - median_cat).abs().idxmin()]\n",
    "cat_median\n",
    "\n",
    "# Calculate average of a cat\n",
    "cat_average = (df_title[df_title['columntitle'] == 'columnvalue']\n",
    "                   ['columntitle'].mean()\n",
    "                  )\n"
   ]
  },
  {
   "cell_type": "code",
   "execution_count": null,
   "metadata": {},
   "outputs": [],
   "source": []
  },
  {
   "cell_type": "code",
   "execution_count": null,
   "metadata": {},
   "outputs": [],
   "source": []
  },
  {
   "cell_type": "markdown",
   "metadata": {},
   "source": [
    "## Visualisations"
   ]
  },
  {
   "cell_type": "markdown",
   "metadata": {},
   "source": [
    "#### Histogram"
   ]
  },
  {
   "cell_type": "code",
   "execution_count": null,
   "metadata": {},
   "outputs": [],
   "source": [
    "# Make a histogram of 2nd hand Volvo prices\n",
    "fig, ax = plt.subplots(figsize=(10, 6))\n",
    "ax.hist(df_cars_cleaned[df_cars_cleaned['manufacturer'] == 'Volvo']['price'], \n",
    "        bins=30, \n",
    "        color='skyblue', \n",
    "        edgecolor='black')\n",
    "ax.set_title(\"Distribution 2nd Hand Volvo Prices\")\n",
    "ax.set_xlabel('Prijs')\n",
    "ax.set_ylabel(\"Vehicle Count\")\n",
    "\n",
    "# Add vertical lines for median (red) and average (purple)\n",
    "ax.axvline(median_price_volvo, \n",
    "           color='red', \n",
    "           linestyle='solid', \n",
    "           linewidth=2, \n",
    "           label='Mediaan')\n",
    "ax.axvline(avg_price_volvo, \n",
    "           color='purple', \n",
    "           linestyle='solid', \n",
    "           linewidth=2, \n",
    "           label='Gemiddelde')\n",
    "\n",
    "# Delete lines on top and right\n",
    "ax.spines['top'].set_visible(False)\n",
    "ax.spines['right'].set_visible(False)\n",
    "\n",
    "# Add grid\n",
    "ax.grid(True)\n",
    "plt.show()"
   ]
  },
  {
   "cell_type": "code",
   "execution_count": 17,
   "metadata": {},
   "outputs": [],
   "source": [
    "# multiple histograms\n",
    "\n",
    "# Unique fuel types\n",
    "fuel_types = df_cars_cleaned['fuel_type'].unique()\n",
    "\n",
    "# Make subplots\n",
    "fig, axes = plt.subplots(1, \n",
    "                         len(fuel_types), \n",
    "                         figsize=(15, 5), \n",
    "                         squeeze=False)\n",
    "axes = axes.flatten()\n",
    "\n",
    "# Number of bins\n",
    "num_bins = 20  # Increase this number to increase the number of bins\n",
    "\n",
    "# Plot histogram for each fuel type\n",
    "for i, fuel_type in enumerate(fuel_types):\n",
    "    ax = axes[i]\n",
    "    df_cars_cleaned[df_cars_cleaned['fuel_type'] == fuel_type]['price'].plot(kind='hist', \n",
    "                                                                                 ax=ax, \n",
    "                                                                                 bins=num_bins)\n",
    "    ax.set_title(fuel_type)\n",
    "    ax.set_xlabel('Price')\n",
    "    ax.set_ylabel(\"Vehicle count\")\n",
    "\n",
    "# Change layout\n",
    "plt.tight_layout()\n",
    "\n",
    "# Show plot\n",
    "plt.show()"
   ]
  },
  {
   "cell_type": "markdown",
   "metadata": {},
   "source": [
    "#### KDE"
   ]
  },
  {
   "cell_type": "code",
   "execution_count": 14,
   "metadata": {},
   "outputs": [],
   "source": [
    "# Plot KDE of price distribution of all fuel types\n",
    "plt.figure(figsize=(10, 6))\n",
    "for fuel_type, color in colours.items():\n",
    "    fuel_data = df_cars_cleaned[df_cars_cleaned['fuel_type'] == fuel_type]\n",
    "    sns.kdeplot(fuel_data['price'], \n",
    "                label=fuel_type, \n",
    "                fill=True, \n",
    "                color=colours[fuel_type])\n",
    "\n",
    "plt.title('Price Distribution for all fuel types')\n",
    "plt.xlabel('Price')\n",
    "plt.ylabel('Density')\n",
    "plt.legend()\n",
    "\n",
    "plt.xlim(left=0)  # Lower bound x axis\n",
    "plt.xlim(right=250000)  # Upper bound x axis\n",
    "\n",
    "# Delete right and top lines\n",
    "plt.gca().spines['right'].set_visible(False)\n",
    "plt.gca().spines['top'].set_visible(False)\n",
    "\n",
    "plt.show()"
   ]
  },
  {
   "cell_type": "markdown",
   "metadata": {},
   "source": [
    "#### Violin plot"
   ]
  },
  {
   "cell_type": "code",
   "execution_count": 16,
   "metadata": {},
   "outputs": [
    {
     "ename": "NameError",
     "evalue": "name 'plt' is not defined",
     "output_type": "error",
     "traceback": [
      "\u001b[1;31m---------------------------------------------------------------------------\u001b[0m",
      "\u001b[1;31mNameError\u001b[0m                                 Traceback (most recent call last)",
      "Cell \u001b[1;32mIn[16], line 2\u001b[0m\n\u001b[0;32m      1\u001b[0m \u001b[38;5;66;03m# Make violin plot of price distribution for all fuel types\u001b[39;00m\n\u001b[1;32m----> 2\u001b[0m \u001b[43mplt\u001b[49m\u001b[38;5;241m.\u001b[39mfigure(figsize\u001b[38;5;241m=\u001b[39m(\u001b[38;5;241m10\u001b[39m, \u001b[38;5;241m6\u001b[39m))\n\u001b[0;32m      3\u001b[0m sns\u001b[38;5;241m.\u001b[39mviolinplot(data\u001b[38;5;241m=\u001b[39mdf_cars_cleaned, \n\u001b[0;32m      4\u001b[0m                x\u001b[38;5;241m=\u001b[39m\u001b[38;5;124m'\u001b[39m\u001b[38;5;124mfuel_type\u001b[39m\u001b[38;5;124m'\u001b[39m, \n\u001b[0;32m      5\u001b[0m                y\u001b[38;5;241m=\u001b[39m\u001b[38;5;124m'\u001b[39m\u001b[38;5;124mprice\u001b[39m\u001b[38;5;124m'\u001b[39m, \n\u001b[1;32m   (...)\u001b[0m\n\u001b[0;32m      8\u001b[0m                palette\u001b[38;5;241m=\u001b[39mcolours\n\u001b[0;32m      9\u001b[0m               )\n\u001b[0;32m     11\u001b[0m plt\u001b[38;5;241m.\u001b[39mtitle(\u001b[38;5;124m'\u001b[39m\u001b[38;5;124mPrice distribution for all fuel types\u001b[39m\u001b[38;5;124m'\u001b[39m)\n",
      "\u001b[1;31mNameError\u001b[0m: name 'plt' is not defined"
     ]
    }
   ],
   "source": [
    "# Make violin plot of price distribution for all fuel types\n",
    "plt.figure(figsize=(10, 6))\n",
    "sns.violinplot(data=df_cars_cleaned, \n",
    "               x='fuel_type', \n",
    "               y='price', \n",
    "               hue='fuel_type', \n",
    "               legend=False, \n",
    "               palette=colours\n",
    "              )\n",
    "\n",
    "plt.title('Price distribution for all fuel types')\n",
    "plt.xlabel('Fuel type')\n",
    "plt.ylabel('Price')\n",
    "plt.ylim(0, 250000) # Upper bound of y axis to make plot less flat\n",
    "plt.grid(True)\n",
    "\n",
    "# Delete right and top lines\n",
    "plt.gca().spines['right'].set_visible(False)\n",
    "plt.gca().spines['top'].set_visible(False)\n",
    "\n",
    "plt.show()"
   ]
  },
  {
   "cell_type": "code",
   "execution_count": null,
   "metadata": {},
   "outputs": [],
   "source": []
  }
 ],
 "metadata": {
  "kernelspec": {
   "display_name": "Python 3 (ipykernel)",
   "language": "python",
   "name": "python3"
  },
  "language_info": {
   "codemirror_mode": {
    "name": "ipython",
    "version": 3
   },
   "file_extension": ".py",
   "mimetype": "text/x-python",
   "name": "python",
   "nbconvert_exporter": "python",
   "pygments_lexer": "ipython3",
   "version": "3.10.9"
  }
 },
 "nbformat": 4,
 "nbformat_minor": 4
}
