{
 "cells": [
  {
   "cell_type": "markdown",
   "metadata": {},
   "source": [
    "# Title"
   ]
  },
  {
   "cell_type": "markdown",
   "metadata": {},
   "source": [
    "## Loading libraries"
   ]
  },
  {
   "cell_type": "code",
   "execution_count": 1,
   "metadata": {},
   "outputs": [],
   "source": [
    "# Importeer libraries\n",
    "import pandas as pd\n",
    "import matplotlib.pyplot as plt\n",
    "import seaborn as sns\n",
    "import numpy as np\n",
    "import scipy.stats as stats\n",
    "from scipy.stats import norm\n",
    "from datetime import datetime, timedelta\n",
    "import sys\n",
    "import os\n",
    "import json\n",
    "import random\n",
    "import tqdm\n",
    "\n",
    "import plotly.express as px\n",
    "import plotly.graph_objects as go\n",
    "from plotly import data\n",
    "\n",
    "# import standards for plotting and colors\n",
    "sys.path.append('../scripts')\n",
    "import plotting_standard\n",
    "plotting_standard.standard_setup()\n",
    "# from plotting_standard import standard_setup"
   ]
  },
  {
   "cell_type": "code",
   "execution_count": null,
   "metadata": {},
   "outputs": [],
   "source": []
  },
  {
   "cell_type": "markdown",
   "metadata": {},
   "source": [
    "## Import dataset"
   ]
  },
  {
   "cell_type": "code",
   "execution_count": null,
   "metadata": {},
   "outputs": [],
   "source": [
    "df = pd.read_csv(os.path.join('..', 'data', 'input', 'title.csv'))\n",
    "df_title = df.copy()"
   ]
  },
  {
   "cell_type": "code",
   "execution_count": null,
   "metadata": {},
   "outputs": [],
   "source": []
  },
  {
   "cell_type": "markdown",
   "metadata": {},
   "source": [
    "## Variables"
   ]
  },
  {
   "cell_type": "code",
   "execution_count": null,
   "metadata": {},
   "outputs": [],
   "source": [
    "# placeholder for variables\n",
    "\n",
    "# bins should be removed to formula's were bin's are user\n",
    "bins = round(math.sqrt(len(df_title))) # rule of thumb: amount of bins is calculated by sqare root of amount of datapoints"
   ]
  },
  {
   "cell_type": "code",
   "execution_count": null,
   "metadata": {},
   "outputs": [],
   "source": []
  },
  {
   "cell_type": "code",
   "execution_count": null,
   "metadata": {},
   "outputs": [],
   "source": []
  },
  {
   "cell_type": "markdown",
   "metadata": {},
   "source": [
    "## Data exploration"
   ]
  },
  {
   "cell_type": "code",
   "execution_count": null,
   "metadata": {},
   "outputs": [],
   "source": [
    "# Print all columns\n",
    "print(df_title.columns)\n",
    "# delete white spaces in title\n",
    "df_title.columns = df_title.columns.str.strip()\n",
    "\n",
    "# Summary statistics for numeric columns\n",
    "df_title.describe()\n",
    "\n",
    "# find duplicates, put in new column\n",
    "print('Row count before deduplication:', len(df_cars)) # Count of rows before deduplication\n",
    "df_title['duplicate'] = df_title.duplicated(keep='first')\n",
    "df_title = df_title[df_title['duplicate'] == False]\n",
    "print('Row count after deduplication:', len(df_cars))\n",
    "df_title = df_title.drop('duplicate', axis=1) # delete newly made duplicate column\n",
    "\n",
    "# delete or keep rows with certain value\n",
    "df_title = df_title[df_title['columntitle'] != 'Volvo'].copy()\n",
    "df_title = df_title[df_title['columntitle'] == 'Volvo']\n",
    "\n",
    "# Drop irrelevant columns => only to use if certain that other blocks are not impacted\n",
    "df_title = df_title.drop(columns=['columntitle', 'columntitle'],errors='ignore')\n",
    "\n",
    "# FILTERING via .query and @\n",
    "date = '01/01/2015'\n",
    "attraction = '7_dwarfs_train'\n",
    "df_tester = df_disney.query('date == @date' and 'attraction == @attraction')"
   ]
  },
  {
   "cell_type": "code",
   "execution_count": null,
   "metadata": {},
   "outputs": [],
   "source": []
  },
  {
   "cell_type": "markdown",
   "metadata": {},
   "source": [
    "#### Relevant rows NaN values"
   ]
  },
  {
   "cell_type": "code",
   "execution_count": null,
   "metadata": {},
   "outputs": [],
   "source": [
    "na_counts = df_title.isna().sum() # Count NaN values for each column in df_cars_relevant\n",
    "total_rows = len(df_title) # Count of rows in DataFrame\n",
    "non_na_counts = total_rows - na_counts # Count of non NaN values for each column\n",
    "na_percentage = (na_counts / total_rows * 100).round(1) # Percentage NaN values per column\n",
    "\n",
    "# Make DataFrame with NaN values, non NaN values and percentages\n",
    "output_df = pd.DataFrame({\n",
    "    '# NaN values': na_counts,\n",
    "    '% NaN values': na_percentage.astype(str) + '%',\n",
    "    '# non NaN values': non_na_counts\n",
    "})\n",
    "\n",
    "# Drop rows with NaN values in columns\n",
    "df_title = df_title.dropna(subset=['column1', 'column2']) # 'subset=' specifies the columns to check for NaN values."
   ]
  },
  {
   "cell_type": "code",
   "execution_count": null,
   "metadata": {},
   "outputs": [],
   "source": []
  },
  {
   "cell_type": "code",
   "execution_count": null,
   "metadata": {},
   "outputs": [],
   "source": []
  },
  {
   "cell_type": "code",
   "execution_count": null,
   "metadata": {},
   "outputs": [],
   "source": []
  },
  {
   "cell_type": "markdown",
   "metadata": {},
   "source": [
    "## Data cleansing"
   ]
  },
  {
   "cell_type": "markdown",
   "metadata": {},
   "source": [
    "#### Data cleansing categorical variables"
   ]
  },
  {
   "cell_type": "code",
   "execution_count": null,
   "metadata": {},
   "outputs": [],
   "source": [
    "# Print list of all values of manufacturers\n",
    "manufacturers = df_title['columntitle'].unique()\n",
    "print(manufacturers)\n",
    "\n",
    "# Count unique values in a column\n",
    "df_apple.YM.nunique()"
   ]
  },
  {
   "cell_type": "code",
   "execution_count": null,
   "metadata": {},
   "outputs": [],
   "source": []
  },
  {
   "cell_type": "markdown",
   "metadata": {},
   "source": [
    "#### Date(time) calculations"
   ]
  },
  {
   "cell_type": "code",
   "execution_count": null,
   "metadata": {},
   "outputs": [],
   "source": [
    "# Omzetten van datetimeveld naar date\n",
    "df_disney['datetime'] = pd.to_datetime(df_disney['datetime'])\n",
    "\n",
    "# datetime with format\n",
    "df_disney['datetime'] = pd.to_datetime(df.datetime, format = '%d/%m/%Y %H:%M')\n",
    "\n",
    "# Extract year and month into new column\n",
    "df_temp['yearmonth'] = date.apply(lambda x: x.strftime('%Y-%m'))\n",
    "\n",
    "# Function to calculate minutes since start of day\n",
    "df_temp['datetime'] = pd.to_datetime(df_temp['datetime'])\n",
    "\n",
    "# Apply the function to each datetime value and store the result in a new column\n",
    "df_temp['minutes_sod'] = df_temp['datetime'].apply(lambda x: minutes_since_start_of_day(x))\n",
    "\n",
    "# limit df_temp: start from 400\n",
    "df_temp = df_temp[df_temp.minutes_sod > 400]\n",
    "\n",
    "# Set column as index\n",
    "df_apple.set_index('Date')\n",
    "\n",
    "# YearMonth on base of Datetime\n",
    "df_apple.YM = (pd.DatetimeIndex(df_apple['YM']).year.astype(str) + pd.DatetimeIndex(df_apple['YM']).month.astype(str))"
   ]
  },
  {
   "cell_type": "code",
   "execution_count": null,
   "metadata": {},
   "outputs": [],
   "source": []
  },
  {
   "cell_type": "markdown",
   "metadata": {},
   "source": [
    "#### OPTIONAL: calculate shares"
   ]
  },
  {
   "cell_type": "code",
   "execution_count": null,
   "metadata": {},
   "outputs": [],
   "source": [
    "# Total count of records in DataFrame\n",
    "total_record_count = len(df_title)\n",
    "# Percentual share of records where accidents_or_damage equals to 0 and 1\n",
    "share_0 = (df_title['columntitle'] == 0).sum() / total_record_count * 100\n",
    "share_1 = (df_title['columntitle'] == 1).sum() / total_record_count * 100\n",
    "print()  # Print blank line\n",
    "print(\"Share 0: {:.2f}%\".format(aandeel_0))\n",
    "print(\"Share 1: {:.2f}%\".format(aandeel_1))"
   ]
  },
  {
   "cell_type": "code",
   "execution_count": null,
   "metadata": {},
   "outputs": [],
   "source": [
    "\n"
   ]
  },
  {
   "cell_type": "markdown",
   "metadata": {},
   "source": [
    "#### Data cleaning of numeric variables¶\n",
    "Look for inconsistencies & outliers. What does the distribution of our numeric variables look like?"
   ]
  },
  {
   "cell_type": "code",
   "execution_count": null,
   "metadata": {},
   "outputs": [],
   "source": [
    "# Select necessary variables for boxplots\n",
    "column1_data = df_title['columntitle']\n",
    "column2_data = df_cars_relevant_rows_and_cols['columntitle']\n",
    "\n",
    "# Make a figure with three subplots in one row\n",
    "fig, axs = plt.subplots(1, 2, figsize=(18, 6))\n",
    "\n",
    "# Boxplot 'year'\n",
    "axs[0].boxplot(year_data)\n",
    "axs[0].set_title('Year')\n",
    "\n",
    "# Boxplot 'mileage'\n",
    "axs[1].boxplot(mileage_data)\n",
    "axs[1].set_title('Mileage')\n",
    "\n",
    "plt.tight_layout()\n",
    "plt.show()"
   ]
  },
  {
   "cell_type": "code",
   "execution_count": null,
   "metadata": {},
   "outputs": [],
   "source": [
    "# Show highest price values\n",
    "print('Top XXX COLUMNTITLE:')\n",
    "\n",
    "print(df_title['columntitle']\n",
    "      .astype(int)\n",
    "      .sort_values(ascending=False)\n",
    "      .head(10)\n",
    "     )\n",
    "\n",
    "print()  # Blank line\n",
    "\n",
    "# Filter out outliers.\n",
    "df_title_cleaned = df_title_cleaned[df_title_cleaned['columntitle'] <= 1000000]"
   ]
  },
  {
   "cell_type": "code",
   "execution_count": null,
   "metadata": {},
   "outputs": [],
   "source": []
  },
  {
   "cell_type": "code",
   "execution_count": null,
   "metadata": {},
   "outputs": [],
   "source": [
    "# Make DataFrame with only 1 category\n",
    "df_title_cat = df_title_cleaned[df_title_cleaned['columntitle'] == 'columnvalue']\n",
    "\n",
    "# Calculate median for the category\n",
    "median_cat = df_title_cat['columntitle'].median()\n",
    "\n",
    "# Use conditional selection to directly find the row closest to the median price\n",
    "cat_median = df_title.loc[(df_title['columntitle'] - median_cat).abs().idxmin()]\n",
    "cat_median\n",
    "\n",
    "# Calculate average of a cat\n",
    "cat_average = (df_title[df_title['columntitle'] == 'columnvalue']\n",
    "                   ['columntitle'].mean()\n",
    "                  )"
   ]
  },
  {
   "cell_type": "code",
   "execution_count": null,
   "metadata": {},
   "outputs": [],
   "source": []
  },
  {
   "cell_type": "code",
   "execution_count": null,
   "metadata": {},
   "outputs": [],
   "source": []
  },
  {
   "cell_type": "code",
   "execution_count": null,
   "metadata": {},
   "outputs": [],
   "source": []
  },
  {
   "cell_type": "code",
   "execution_count": null,
   "metadata": {},
   "outputs": [],
   "source": []
  },
  {
   "cell_type": "code",
   "execution_count": null,
   "metadata": {},
   "outputs": [],
   "source": []
  },
  {
   "cell_type": "code",
   "execution_count": null,
   "metadata": {},
   "outputs": [],
   "source": []
  },
  {
   "cell_type": "code",
   "execution_count": null,
   "metadata": {},
   "outputs": [],
   "source": []
  },
  {
   "cell_type": "markdown",
   "metadata": {},
   "source": [
    "## Visualisations"
   ]
  },
  {
   "cell_type": "code",
   "execution_count": null,
   "metadata": {},
   "outputs": [],
   "source": [
    "# simple plot\n",
    "plt.plot(mileage_range, p(mileage_range), color='red', label='Trend Line')\n",
    "\n",
    "# plot with marker\n",
    "fig, ax = plt.subplots(figsize = (16, 8))\n",
    "plt.plot(test['Date'], test['Adj Close']) # plotline\n",
    "df_apple_BME.plot(y = 'Adj Close', ax = ax, marker = 'o', markersize = 3, color = 'r', ls = '', alpha = 0.5) # marker\n"
   ]
  },
  {
   "cell_type": "markdown",
   "metadata": {},
   "source": [
    "#### Histogram"
   ]
  },
  {
   "cell_type": "code",
   "execution_count": null,
   "metadata": {},
   "outputs": [],
   "source": [
    "# Make a histogram of 2nd hand Volvo prices\n",
    "fig, ax = plt.subplots(figsize=(10, 6))\n",
    "ax.hist(df_cars_cleaned[df_cars_cleaned['manufacturer'] == 'Volvo']['price'], \n",
    "        bins=30, \n",
    "        color='skyblue', \n",
    "        edgecolor='black')\n",
    "ax.set_title(\"Distribution 2nd Hand Volvo Prices\")\n",
    "ax.set_xlabel('Prijs')\n",
    "ax.set_ylabel(\"Vehicle Count\")\n",
    "\n",
    "# Add vertical lines for median (red) and average (purple)\n",
    "ax.axvline(median_price_volvo, \n",
    "           color='red', \n",
    "           linestyle='solid', \n",
    "           linewidth=2, \n",
    "           label='Mediaan')\n",
    "ax.axvline(avg_price_volvo, \n",
    "           color='purple', \n",
    "           linestyle='solid', \n",
    "           linewidth=2, \n",
    "           label='Gemiddelde')\n",
    "\n",
    "# Delete lines on top and right\n",
    "ax.spines['top'].set_visible(False)\n",
    "ax.spines['right'].set_visible(False)\n",
    "\n",
    "# Add grid\n",
    "ax.grid(True)\n",
    "plt.show()"
   ]
  },
  {
   "cell_type": "code",
   "execution_count": null,
   "metadata": {},
   "outputs": [],
   "source": [
    "# multiple histograms\n",
    "\n",
    "# Unique fuel types\n",
    "fuel_types = df_cars_cleaned['fuel_type'].unique()\n",
    "\n",
    "# Make subplots\n",
    "fig, axes = plt.subplots(1, \n",
    "                         len(fuel_types), \n",
    "                         figsize=(15, 5), \n",
    "                         squeeze=False)\n",
    "axes = axes.flatten()\n",
    "\n",
    "# Number of bins\n",
    "num_bins = 20  # Increase this number to increase the number of bins\n",
    "\n",
    "# Plot histogram for each fuel type\n",
    "for i, fuel_type in enumerate(fuel_types):\n",
    "    ax = axes[i]\n",
    "    df_cars_cleaned[df_cars_cleaned['fuel_type'] == fuel_type]['price'].plot(kind='hist', \n",
    "                                                                                 ax=ax, \n",
    "                                                                                 bins=num_bins)\n",
    "    ax.set_title(fuel_type)\n",
    "    ax.set_xlabel('Price')\n",
    "    ax.set_ylabel(\"Vehicle count\")\n",
    "\n",
    "# Change layout\n",
    "plt.tight_layout()\n",
    "\n",
    "# Show plot\n",
    "plt.show()"
   ]
  },
  {
   "cell_type": "markdown",
   "metadata": {},
   "source": [
    "#### KDE"
   ]
  },
  {
   "cell_type": "code",
   "execution_count": null,
   "metadata": {},
   "outputs": [],
   "source": [
    "# Plot KDE of price distribution of all fuel types\n",
    "plt.figure(figsize=(10, 6))\n",
    "for fuel_type, color in colours.items():\n",
    "    fuel_data = df_cars_cleaned[df_cars_cleaned['fuel_type'] == fuel_type]\n",
    "    sns.kdeplot(fuel_data['price'], \n",
    "                label=fuel_type, \n",
    "                fill=True, \n",
    "                color=colours[fuel_type])\n",
    "\n",
    "plt.title('Price Distribution for all fuel types')\n",
    "plt.xlabel('Price')\n",
    "plt.ylabel('Density')\n",
    "plt.legend()\n",
    "\n",
    "plt.xlim(left=0)  # Lower bound x axis\n",
    "plt.xlim(right=250000)  # Upper bound x axis\n",
    "\n",
    "# Delete right and top lines\n",
    "plt.gca().spines['right'].set_visible(False)\n",
    "plt.gca().spines['top'].set_visible(False)\n",
    "\n",
    "plt.show()"
   ]
  },
  {
   "cell_type": "markdown",
   "metadata": {},
   "source": [
    "#### Violin plot"
   ]
  },
  {
   "cell_type": "code",
   "execution_count": null,
   "metadata": {},
   "outputs": [],
   "source": [
    "# Make violin plot of price distribution for all fuel types\n",
    "plt.figure(figsize=(10, 6))\n",
    "sns.violinplot(data=df_cars_cleaned, \n",
    "               x='fuel_type', \n",
    "               y='price', \n",
    "               hue='fuel_type', \n",
    "               legend=False, \n",
    "               palette=colours\n",
    "              )\n",
    "\n",
    "plt.title('Price distribution for all fuel types')\n",
    "plt.xlabel('Fuel type')\n",
    "plt.ylabel('Price')\n",
    "plt.ylim(0, 250000) # Upper bound of y axis to make plot less flat\n",
    "plt.grid(True)\n",
    "\n",
    "# Delete right and top lines\n",
    "plt.gca().spines['right'].set_visible(False)\n",
    "plt.gca().spines['top'].set_visible(False)\n",
    "\n",
    "plt.show()"
   ]
  },
  {
   "cell_type": "code",
   "execution_count": null,
   "metadata": {},
   "outputs": [],
   "source": []
  }
 ],
 "metadata": {
  "kernelspec": {
   "display_name": "Python 3 (ipykernel)",
   "language": "python",
   "name": "python3"
  },
  "language_info": {
   "codemirror_mode": {
    "name": "ipython",
    "version": 3
   },
   "file_extension": ".py",
   "mimetype": "text/x-python",
   "name": "python",
   "nbconvert_exporter": "python",
   "pygments_lexer": "ipython3",
   "version": "3.10.14"
  }
 },
 "nbformat": 4,
 "nbformat_minor": 4
}
